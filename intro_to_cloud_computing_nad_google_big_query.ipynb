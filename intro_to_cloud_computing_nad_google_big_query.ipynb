{
  "nbformat": 4,
  "nbformat_minor": 0,
  "metadata": {
    "colab": {
      "provenance": [],
      "authorship_tag": "ABX9TyPo1doGN5qCF/aJJw1QA26J"
    },
    "kernelspec": {
      "name": "python3",
      "display_name": "Python 3"
    },
    "language_info": {
      "name": "python"
    }
  },
  "cells": [
    {
      "cell_type": "markdown",
      "source": [
        "#Intro to Cloud Computing and Google Big Query\n",
        "DAT 512 Canisius College <br>\n",
        "Professor Paul Lambson<br>\n",
        "\n",
        "Learning Objectives\n",
        "- Review Colab\n",
        "- Discuss Big Data Warehousing and Google Big Query\n",
        "- Review public cloud offerings\n",
        "- Inroduce The Look Ecommerce data set\n",
        "- Begin EDA on The Look Ecommerce\n",
        "- Introduce `pandas` `read_gbq`\n",
        "\n",
        "\n",
        "# Public Cloud Platforms\n",
        "A public cloud is an IT model where public cloud service providers make computing services—including compute and storage, develop-and-deploy environments, and applications—available on-demand to organizations and individuals over the public internet.\n",
        "\n",
        "[Microsoft Azure Products](https://azure.microsoft.com/en-us/products/)\n",
        "\n",
        "[Google Cloud Products](https://cloud.google.com/products)\n",
        "\n",
        "[Amazon Web Services (AWS) Products](https://aws.amazon.com/products/?hp=tile&so-exp=below&aws-products-all.sort-by=item.additionalFields.productNameLowercase&aws-products-all.sort-order=asc&awsf.re%3AInvent=*all&awsf.Free%20Tier%20Type=*all&awsf.tech-category=*all)\n",
        "\n",
        "![](https://d2908q01vomqb2.cloudfront.net/da4b9237bacccdf19c0760cab7aec4a8359010b0/2021/08/02/2021-CIPS-MQ.png)\n",
        "\n",
        "# Intoduction to Google Big Query (GCP)\n",
        "\n",
        "**Q- What is Google Big Query?**\n",
        "\n",
        "A- It's an Enterprise Data Warehouse.\n",
        "\n",
        "**Q- What's an Enterprise Data Warehouse?**\n",
        "\n",
        "A- An enterprise data warehouse is a system used for the analysis and reporting of structured and semi-structured data from multiple sources. Many organizations are moving from traditional data warehouses that are on-premises to cloud data warehouses, which provide more cost savings, scalability, and flexibility.\n",
        "\n",
        "**Q- Wait, is this \"Big Data\"?**\n",
        "\n",
        "A- Yes, this is a Big Data tool. Though this looks and feels more like a traditional data warehousing solution that other tech stack might. The processing power of GBQ is what sets it apart and allows for big data capabilities. \n",
        "\n",
        "# An Archictecture of What GBQ could look like\n",
        "![](https://lh3.googleusercontent.com/7wH2NXrrzsSYdBNwepEeuW7mc-ZeSNaADVT-D5KDMje96iQYF4-QeH9z7lTWBnZ3_2jBQSEYoIkl=e14-rw-lo-sc0xffffff-w953)\n",
        "\n",
        "# Guided GBQ Walkthrough\n",
        "\n",
        "1. Open a browswer to the GBQ (Google Big Query) console\n",
        "2. Select 'New Project' from the project selector in the top left\n",
        "3. Create a new proejct, of any name\n",
        "4. In the object explorer type `pypi`\n",
        "5. Beneath the search bar select `Show all resources`\n",
        "6. Select the star next to `bigquery-public-data`\n",
        "7. Scroll down to `thelook_ecommerce`\n",
        "\n",
        "# Query lessons in GBQ query editor\n",
        "In browser"
      ],
      "metadata": {
        "id": "TO95nmTxNEbz"
      }
    },
    {
      "cell_type": "markdown",
      "source": [
        "# GBQ to Pandas"
      ],
      "metadata": {
        "id": "qEK_IBxKu1N8"
      }
    },
    {
      "cell_type": "code",
      "source": [
        "# authenticate with the google account used in console\n",
        "from google.colab import auth\n",
        "auth.authenticate_user()"
      ],
      "metadata": {
        "id": "bn4-cdu4fa9M"
      },
      "execution_count": null,
      "outputs": []
    },
    {
      "cell_type": "code",
      "source": [
        "import pandas as pd\n",
        "\n",
        "project_id = 'tla-consultants'\n",
        "sample_count = 2000\n",
        "\n",
        "df = pd.io.gbq.read_gbq(f'''\n",
        "SELECT * FROM `bigquery-public-data.thelook_ecommerce.users`\n",
        "''',project_id=project_id)\n"
      ],
      "metadata": {
        "id": "74OPMeHQfa9O"
      },
      "execution_count": null,
      "outputs": []
    },
    {
      "cell_type": "markdown",
      "source": [
        "# Lab Prompts - EDA on users table\n",
        "\n",
        "1. Look at sumary stats of numeric variables\n",
        "2. evaluate categorical variables with frequency counts\n",
        "3. look at a correlation matrix\n",
        "4. Create a list of insights from this analysis\n",
        "5. Create a list of additional questions if time allowed"
      ],
      "metadata": {
        "id": "82xldLQW7Vxk"
      }
    },
    {
      "cell_type": "code",
      "source": [],
      "metadata": {
        "id": "Svuf1t2o7pIV"
      },
      "execution_count": null,
      "outputs": []
    },
    {
      "cell_type": "markdown",
      "source": [
        "# Lab Prompts - EDA on orders table\n",
        "\n",
        "1. Look at sumary stats of numeric variables\n",
        "2. evaluate categorical variables with frequency counts\n",
        "3. look at a correlation matrix\n",
        "4. Create a list of insights from this analysis\n",
        "5. Create a list of additional questions if time allowed"
      ],
      "metadata": {
        "id": "r8OsC8Xy7kKg"
      }
    },
    {
      "cell_type": "code",
      "source": [],
      "metadata": {
        "id": "arUjguHEfa9O"
      },
      "execution_count": null,
      "outputs": []
    },
    {
      "cell_type": "markdown",
      "source": [
        "# Lab Prompts - EDA on order items table\n",
        "\n",
        "1. Look at sumary stats of numeric variables\n",
        "2. evaluate categorical variables with frequency counts\n",
        "3. look at a correlation matrix\n",
        "4. Create a list of insights from this analysis\n",
        "5. Create a list of additional questions if time allowed"
      ],
      "metadata": {
        "id": "lyFMIYcg8Dl4"
      }
    },
    {
      "cell_type": "code",
      "source": [],
      "metadata": {
        "id": "A8929DynfZtr"
      },
      "execution_count": null,
      "outputs": []
    }
  ]
}